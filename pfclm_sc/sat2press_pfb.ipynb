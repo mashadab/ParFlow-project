{
 "cells": [
  {
   "cell_type": "code",
   "execution_count": 1,
   "metadata": {},
   "outputs": [
    {
     "name": "stdout",
     "output_type": "stream",
     "text": [
      "1.0\n",
      "0 [0.5625]\n",
      "1.0\n",
      "1 [0.5625]\n",
      "1.0\n",
      "2 [0.5625]\n",
      "1.0\n",
      "3 [0.5625]\n",
      "1.0\n",
      "4 [0.5625]\n",
      "1.0\n",
      "5 [0.5625]\n",
      "1.0\n",
      "6 [0.5625]\n",
      "1.0\n",
      "7 [0.5625]\n",
      "1.0\n",
      "8 [0.5625]\n",
      "0.9997270497887782\n",
      "9 [0.5625]\n",
      "0.9885023433995179\n",
      "10 [0.5625]\n",
      "0.9459681637419519\n",
      "11 [0.5625]\n",
      "0.8667012017999374\n",
      "12 [0.5625]\n",
      "0.7657573791143819\n",
      "13 [0.5625]\n",
      "0.6645736701487781\n",
      "14 [0.5625]\n",
      "0.5765144430932899\n",
      "15 [0.5625]\n",
      "0.50529784671145\n",
      "16 [0.0148]\n",
      "0.44949762614137945\n",
      "17 [0.0168]\n",
      "0.4061503529525522\n",
      "18 [0.0188]\n",
      "0.38654995427250766\n",
      "19 [0.0199]\n"
     ]
    },
    {
     "name": "stderr",
     "output_type": "stream",
     "text": [
      "/tmp/ipykernel_525927/3704544999.py:22: RuntimeWarning: The iteration is not making good progress, as measured by the \n",
      "  improvement from the last ten iterations.\n",
      "  Initial_head = np.abs(fsolve(h_from_sat,1,xtol=1e-12))\n"
     ]
    }
   ],
   "source": [
    "from parflow.tools.io import write_pfb, read_pfb\n",
    "import numpy as np\n",
    "from scipy.optimize import fsolve\n",
    "\n",
    "#read the original input file\n",
    "old_satur_data = read_pfb(\"/home/ms6985/ParFlow-project/pfclm_sc/output_water_balance/PFCLM_SC.out.satur.00000.pfb\")\n",
    "old_press_data = read_pfb(\"/home/ms6985/ParFlow-project/pfclm_sc/output_water_balance/PFCLM_SC.out.press.00000.pfb\")\n",
    "\n",
    "#van-Genuchten model parameters\n",
    "alpha_vG = 2  #Set alpha for vanGenuchten model\n",
    "head_table = -1 #location of water table [m]\n",
    "\n",
    "\n",
    "s_s = 1.0; s_r = 0.2; n = 3.0 #van-Genuchten model parameters\n",
    "sw_vG= lambda h,alpha_vG: (s_s - s_r)/((1 + np.abs(alpha_vG*h)**n)**(1-1/n))+s_r\n",
    "new_press_data = np.empty_like(old_press_data)\n",
    "\n",
    "#regressing for new pressure\n",
    "for idx, init_sat in enumerate(old_satur_data):\n",
    "    print(init_sat[0][0])\n",
    "    h_from_sat = lambda h: sw_vG(h,alpha_vG) - init_sat[0][0]\n",
    "    Initial_head = np.abs(fsolve(h_from_sat,1,xtol=1e-12))\n",
    "    print(idx,Initial_head)\n",
    "    new_press_data[idx] = -np.abs(Initial_head)\n",
    "\n",
    "new_press_data[old_press_data>0] = old_press_data[old_press_data>0]  #populating old pressure data with the same pressure\n",
    "\n",
    "ic_filename=f\"/home/ms6985/ParFlow-project/pfclm_sc/output_water_balance/ic_pressure_WTD{head_table}_alpha{alpha_vG}.pfb\"\n",
    "\n",
    "write_pfb(ic_filename,new_press_data)\n"
   ]
  },
  {
   "cell_type": "code",
   "execution_count": 2,
   "metadata": {},
   "outputs": [
    {
     "data": {
      "text/plain": [
       "array([[[ 0.    ]],\n",
       "\n",
       "       [[ 0.    ]],\n",
       "\n",
       "       [[ 0.    ]],\n",
       "\n",
       "       [[ 0.    ]],\n",
       "\n",
       "       [[ 0.    ]],\n",
       "\n",
       "       [[ 0.    ]],\n",
       "\n",
       "       [[ 0.    ]],\n",
       "\n",
       "       [[ 0.    ]],\n",
       "\n",
       "       [[ 0.    ]],\n",
       "\n",
       "       [[ 0.5225]],\n",
       "\n",
       "       [[ 0.4225]],\n",
       "\n",
       "       [[ 0.3225]],\n",
       "\n",
       "       [[ 0.2225]],\n",
       "\n",
       "       [[ 0.1225]],\n",
       "\n",
       "       [[ 0.0225]],\n",
       "\n",
       "       [[-0.0775]],\n",
       "\n",
       "       [[-0.7252]],\n",
       "\n",
       "       [[-0.8232]],\n",
       "\n",
       "       [[-0.9212]],\n",
       "\n",
       "       [[-0.9751]]])"
      ]
     },
     "execution_count": 2,
     "metadata": {},
     "output_type": "execute_result"
    }
   ],
   "source": [
    "#np.shape(new_press_data)\n",
    "old_press_data - new_press_data"
   ]
  },
  {
   "cell_type": "code",
   "execution_count": 3,
   "metadata": {},
   "outputs": [
    {
     "name": "stdout",
     "output_type": "stream",
     "text": [
      "[[[1.        ]]\n",
      "\n",
      " [[1.        ]]\n",
      "\n",
      " [[1.        ]]\n",
      "\n",
      " [[1.        ]]\n",
      "\n",
      " [[1.        ]]\n",
      "\n",
      " [[1.        ]]\n",
      "\n",
      " [[1.        ]]\n",
      "\n",
      " [[1.        ]]\n",
      "\n",
      " [[1.        ]]\n",
      "\n",
      " [[0.99972705]]\n",
      "\n",
      " [[0.98850234]]\n",
      "\n",
      " [[0.94596816]]\n",
      "\n",
      " [[0.8667012 ]]\n",
      "\n",
      " [[0.76575738]]\n",
      "\n",
      " [[0.66457367]]\n",
      "\n",
      " [[0.57651444]]\n",
      "\n",
      " [[0.50529785]]\n",
      "\n",
      " [[0.44949763]]\n",
      "\n",
      " [[0.40615035]]\n",
      "\n",
      " [[0.38654995]]]\n"
     ]
    }
   ],
   "source": [
    "print(old_satur_data)"
   ]
  },
  {
   "cell_type": "code",
   "execution_count": 4,
   "metadata": {},
   "outputs": [
    {
     "name": "stdout",
     "output_type": "stream",
     "text": [
      "[[[ 1.71 ]]\n",
      "\n",
      " [[ 0.96 ]]\n",
      "\n",
      " [[ 0.66 ]]\n",
      "\n",
      " [[ 0.56 ]]\n",
      "\n",
      " [[ 0.46 ]]\n",
      "\n",
      " [[ 0.36 ]]\n",
      "\n",
      " [[ 0.26 ]]\n",
      "\n",
      " [[ 0.16 ]]\n",
      "\n",
      " [[ 0.06 ]]\n",
      "\n",
      " [[-0.04 ]]\n",
      "\n",
      " [[-0.14 ]]\n",
      "\n",
      " [[-0.24 ]]\n",
      "\n",
      " [[-0.34 ]]\n",
      "\n",
      " [[-0.44 ]]\n",
      "\n",
      " [[-0.54 ]]\n",
      "\n",
      " [[-0.64 ]]\n",
      "\n",
      " [[-0.74 ]]\n",
      "\n",
      " [[-0.84 ]]\n",
      "\n",
      " [[-0.94 ]]\n",
      "\n",
      " [[-0.995]]]\n"
     ]
    }
   ],
   "source": [
    "print(old_press_data)"
   ]
  },
  {
   "cell_type": "code",
   "execution_count": null,
   "metadata": {},
   "outputs": [],
   "source": []
  }
 ],
 "metadata": {
  "kernelspec": {
   "display_name": "myenv",
   "language": "python",
   "name": "python3"
  },
  "language_info": {
   "codemirror_mode": {
    "name": "ipython",
    "version": 3
   },
   "file_extension": ".py",
   "mimetype": "text/x-python",
   "name": "python",
   "nbconvert_exporter": "python",
   "pygments_lexer": "ipython3",
   "version": "3.11.4"
  }
 },
 "nbformat": 4,
 "nbformat_minor": 2
}
