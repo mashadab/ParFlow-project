{
 "cells": [
  {
   "cell_type": "code",
   "execution_count": 4,
   "id": "bd7c7557-ef1c-41c2-9fa2-b7c76d828207",
   "metadata": {},
   "outputs": [
    {
     "name": "stdout",
     "output_type": "stream",
     "text": [
      "(24, 10, 327, 315)\n",
      "(10, 327, 315)\n",
      "(10, 327, 315)\n",
      "(10, 327, 315)\n",
      "(327, 315)\n",
      "(327, 315)\n",
      "(327, 315)\n",
      "(10, 327, 315)\n",
      "(10, 327, 315)\n",
      "(10, 327, 315)\n",
      "(10, 327, 315)\n",
      "(10, 327, 315)\n",
      "(10, 327, 315)\n"
     ]
    }
   ],
   "source": [
    "import hf_hydrodata as hf\n",
    "import numpy as np\n",
    "\n",
    "#q = - K * G * h\n",
    "#X: (h2 - h1)/(x2-x1),(h_top - h_bot)/(y2-y1) \n",
    "\n",
    "def main():\n",
    "    # Produced from https://hydro-dev.princeton.edu\n",
    "    huc_list = [ \"1404\" ]\n",
    "    ij_bounds = [1091, 1797, 1406, 2124]\n",
    "    latlon_bounds = [40.5349012124,-110.9212757848, 43.4590985560,-107.0836798859]\n",
    "    # # FOR CONUS1\n",
    "    # options = {\"dataset\": \"conus1_domain\", \"variable\": \"permeability\"}\n",
    "    # perm_np = hf.get_gridded_data(options)\n",
    "    # print(perm_np.shape)\n",
    "    # start_time = \"2003-01-01\"\n",
    "    # end_time = \"2003-01-02\"\n",
    "    # options = {\"dataset\": \"conus1_baseline_mod\", \"variable\": \"pressure_head\",\n",
    "    #             \"start_time\" : start_time,\n",
    "    #             \"end_time\" : end_time}\n",
    "    # press_np = hf.get_gridded_data(options)\n",
    "    # print(press_np.shape)\n",
    "\n",
    "    \n",
    "    # FOR CONUS2\n",
    "    #pressure head\n",
    "    start_time = \"2003-01-01\"\n",
    "    end_time = \"2003-01-02\"\n",
    "    options = {\"dataset\": \"conus2_baseline\", \"variable\": \"pressure_head\",\n",
    "                \"start_time\" : start_time,\n",
    "                \"end_time\" : end_time,\n",
    "                \"grid_bounds\": ij_bounds\n",
    "                }\n",
    "    #Pressure has a format time, z, x,y going from low to high\n",
    "    press_np = hf.get_gridded_data(options)\n",
    "    print(press_np.shape)\n",
    "\n",
    "    ##Constant variables throughout the simulation\n",
    "    # permeability_x,y,z exists for conus2, but not conus1\n",
    "    options = {\"dataset\": \"conus2_domain\", \"variable\": \"permeability_x\",\"grid_bounds\": ij_bounds}\n",
    "    perm_x = hf.get_gridded_data(options)\n",
    "    print(perm_x.shape)\n",
    "    options = {\"dataset\": \"conus2_domain\", \"variable\": \"permeability_y\",\"grid_bounds\": ij_bounds}\n",
    "    perm_y = hf.get_gridded_data(options)\n",
    "    print(perm_y.shape)\n",
    "    options = {\"dataset\": \"conus2_domain\", \"variable\": \"permeability_z\",\"grid_bounds\": ij_bounds}\n",
    "    perm_z = hf.get_gridded_data(options)\n",
    "    print(perm_z.shape)\n",
    "    options = {\"dataset\": \"conus2_domain\", \"variable\": \"slope_x\",\"grid_bounds\": ij_bounds}\n",
    "    slope_x = hf.get_gridded_data(options)\n",
    "    print(slope_x.shape)\n",
    "    options = {\"dataset\": \"conus2_domain\", \"variable\": \"slope_y\",\"grid_bounds\": ij_bounds}\n",
    "    slope_y = hf.get_gridded_data(options)\n",
    "    print(slope_y.shape)\n",
    "    options = {\"dataset\": \"conus2_domain\", \"variable\": \"slope_y\",\"grid_bounds\": ij_bounds}\n",
    "    slope_y = hf.get_gridded_data(options)\n",
    "    print(slope_y.shape)\n",
    "    options = {\"dataset\": \"conus2_domain\", \"variable\": \"porosity\",\"grid_bounds\": ij_bounds}\n",
    "    porosity = hf.get_gridded_data(options)\n",
    "    print(porosity.shape)\n",
    "    options = {\"dataset\": \"conus2_domain\", \"variable\": \"porosity\",\"grid_bounds\": ij_bounds}\n",
    "    porosity = hf.get_gridded_data(options)\n",
    "    print(porosity.shape)\n",
    "    #Max and minimum saturations\n",
    "    options = {\"dataset\": \"conus2_domain\", \"variable\": \"ssat\",\"grid_bounds\": ij_bounds}\n",
    "    ssat = hf.get_gridded_data(options)\n",
    "    print(ssat.shape)\n",
    "    options = {\"dataset\": \"conus2_domain\", \"variable\": \"sres\",\"grid_bounds\": ij_bounds}\n",
    "    sres = hf.get_gridded_data(options)\n",
    "    print(sres.shape)\n",
    "    options = {\"dataset\": \"conus2_domain\", \"variable\": \"vg_alpha\",\"grid_bounds\": ij_bounds}\n",
    "    vg_alpha = hf.get_gridded_data(options)\n",
    "    print(vg_alpha.shape)\n",
    "    options = {\"dataset\": \"conus2_domain\", \"variable\": \"vg_n\",\"grid_bounds\": ij_bounds}\n",
    "    vg_n = hf.get_gridded_data(options)\n",
    "    print(vg_n.shape)\n",
    "    \n",
    "    Delta_x = 1000 #1 km grid size in x direction\n",
    "    Delta_y = 1000 #1 km grid size in y direction\n",
    "    Delta_z = [200, 100, 50, 25, 10, 5, 1, 0.6, 0.3, 0.1] #cell thickness in vertical direction from bottom to top [m]\n",
    "    return press_np,perm_x,perm_y,perm_z,slope_x,slope_y,porosity,Delta_x,Delta_y,Delta_z,ssat,sres,vg_alpha,vg_n\n",
    "\n",
    "press_np,perm_x,perm_y,perm_z,slope_x,slope_y,porosity,Delta_x,Delta_y,Delta_z,ssat,sres,vg_alpha,vg_n = main()\n",
    "    #hf.get_path"
   ]
  },
  {
   "cell_type": "code",
   "execution_count": 5,
   "id": "1479f939-1499-42cc-a5b5-e4a018453acf",
   "metadata": {},
   "outputs": [],
   "source": [
    "#calculate saturation and relative permeability using Van Genuchten model\n",
    "#Saturation\n",
    "sw_vG= lambda h,n: (ssat - sres)/((1 + np.abs(vg_alpha*h)**n)**(1-1/n))+sres #sw, head in cms\n",
    "#Relative permeability\n",
    "kr_vG= lambda h,n: (1-(np.abs(vg_alpha*h)**(n-1))/(1+np.abs(vg_alpha*h)**n)**(1-1/n))**2.0/((1 + np.abs(vg_alpha*h)**n)**((1-1/n)/2)) #kr"
   ]
  },
  {
   "cell_type": "code",
   "execution_count": 6,
   "id": "1aa1cb80-3b4b-4e6f-8167-af17487f5a8b",
   "metadata": {},
   "outputs": [],
   "source": [
    "#Calculating saturation and relative permeability at all times since they vary\n",
    "sat      = sw_vG(press_np,np.kron(np.ones(((np.shape(press_np)[0]),1,1,1)),vg_n))\n",
    "rel_perm = kr_vG(press_np,np.kron(np.ones(((np.shape(press_np)[0]),1,1,1)),vg_n))\n",
    "#print(np.shape(np.kron(np.ones(((np.shape(press_np)[0]),1,1,1)),vg_n)))\n",
    "#key argument np.kron(np.ones(((np.shape(press_np)[0]),1,1,1)),vg_n) where vg_n is the static value"
   ]
  },
  {
   "cell_type": "code",
   "execution_count": 7,
   "id": "7d8cb55e-e283-40d7-912b-8b2407c98254",
   "metadata": {},
   "outputs": [],
   "source": [
    "#Calculating hydraulic conductivities [m/s]\n",
    "#Assuming absolute permeabilities are in m^2\n",
    "Delta_rho = 1; grav = 1; mu_w = 1 #Pa.s  #all set to unity\n",
    "K_x = Delta_rho*grav/mu_w*np.kron(np.ones(((np.shape(press_np)[0]),1,1,1)),perm_x)* rel_perm #Hydraulic conductivity in x direction [m/h]\n",
    "K_y = Delta_rho*grav/mu_w*np.kron(np.ones(((np.shape(press_np)[0]),1,1,1)),perm_y)* rel_perm #Hydraulic conductivity in y direction [m/h]\n",
    "K_z = Delta_rho*grav/mu_w*np.kron(np.ones(((np.shape(press_np)[0]),1,1,1)),perm_z)* rel_perm #Hydraulic conductivity in z direction [m/h]"
   ]
  },
  {
   "cell_type": "code",
   "execution_count": 8,
   "id": "e32753d3-eb78-4f3c-813d-4c01e771b561",
   "metadata": {},
   "outputs": [
    {
     "name": "stdout",
     "output_type": "stream",
     "text": [
      "(10, 327, 315)\n",
      "(10, 327, 315) (10, 327, 315) (10, 327, 315)\n"
     ]
    }
   ],
   "source": [
    "#Calculating gradients of pressure head using np.gradient\n",
    "time_iter = 0\n",
    "head_one_time = press_np[time_iter,:,:,:] #pressure head at a single time\n",
    "sat_one_time = sat[time_iter,:,:,:]       #saturation at a single time\n",
    "dhbydz,dhbydx,dhbydy = np.gradient(head_one_time, Delta_z,Delta_x,Delta_y)\n",
    "print(np.shape(head_one_time))\n",
    "print(np.shape(dhbydz),np.shape(dhbydx),np.shape(dhbydy))"
   ]
  },
  {
   "cell_type": "code",
   "execution_count": 9,
   "id": "21c0bb7c-6f0c-435a-90eb-6c08a4c85529",
   "metadata": {},
   "outputs": [],
   "source": [
    "#Calculate Darcy's flux\n",
    "q_x = -K_x[time_iter,:,:,:] * dhbydx #Darcy flux in vertical direction [m/h]\n",
    "q_y = -K_y[time_iter,:,:,:] * dhbydy #Darcy flux in x direction [m/h]\n",
    "q_z = -K_z[time_iter,:,:,:] * dhbydz #Darcy flux in y direction [m/h]"
   ]
  },
  {
   "cell_type": "code",
   "execution_count": 10,
   "id": "cefc18dc-466a-48f8-afc2-526216147015",
   "metadata": {},
   "outputs": [],
   "source": [
    "#Align properly with gravity in this step (currently with terrain-following grid coordinates)\n",
    "#Maybe include the effect of gravity, need to cross check\n",
    "\n",
    "#blank"
   ]
  },
  {
   "cell_type": "code",
   "execution_count": 11,
   "id": "f0277922-d2a4-4c2b-b1ee-92f98c5943bd",
   "metadata": {},
   "outputs": [
    {
     "name": "stdout",
     "output_type": "stream",
     "text": [
      "(10, 327, 315)\n",
      "(10, 327, 315)\n",
      "The total volume of water in unsaturated zone is 180.26309417037035 km^3\n",
      "The total volume of water in saturated region is 864.5115183359773 km^3\n",
      "The US equivalent layer of water in unsaturated zone is 18.31942013926528 km.\n",
      "The US equivalent layer of water in saturated zone is 87.85686161950989 km.\n"
     ]
    }
   ],
   "source": [
    "#Calculate the total volume and the US-equivalent layer\n",
    "s_unsat = sat_one_time.copy(); s_unsat[head_one_time<0]= 0 #saturated regions are masked now with no water\n",
    "s_sat   = sat_one_time.copy(); s_sat[head_one_time>=0]= 0   #unsaturated regions are masked now with no water\n",
    "print(np.shape(s_unsat)); print(np.shape(s_sat))\n",
    "\n",
    "#Find total volume of water in unsaturated region [m^3]\n",
    "#x and y directions are easy so we can just sum in those directions, for z we need to multiply with a matrix\n",
    "Volume_tot = Delta_x*Delta_y*np.sum(np.sum(porosity*s_unsat,axis=1),axis=1) #summing in x and y directions with multiplication of porosity and Delta x and Delta \n",
    "Volume_tot = np.sum(Delta_z*Volume_tot)   #summing in z directions by scaling with Delta z\n",
    "print('The total volume of water in unsaturated zone is',Volume_tot/1e9,'km^3')\n",
    "\n",
    "#Find total water in the saturated regions [m^3]\n",
    "#x and y directions are easy so we can just sum in those directions, for z we need to multiply with a matrix\n",
    "Volume_tot_sat = Delta_x*Delta_y*np.sum(np.sum(porosity*s_sat,axis=1),axis=1) #summing in x and y directions with multiplication of porosity and Delta x and Delta \n",
    "Volume_tot_sat = np.sum(Delta_z*Volume_tot_sat)   #summing in z directions by scaling with Delta z\n",
    "print('The total volume of water in saturated region is',Volume_tot_sat/1e9,'km^3')\n",
    "\n",
    "#Area of the United States is \n",
    "Area_US = 9840000  #km^2 source: https://www.britannica.com/topic/largest-U-S-state-by-area\n",
    "GEL_unsat = Volume_tot/Area_US\n",
    "GEL_sat = Volume_tot_sat/Area_US\n",
    "print('The US equivalent layer of water in unsaturated zone is',GEL_unsat/1e3,'km.')\n",
    "print('The US equivalent layer of water in saturated zone is',GEL_sat/1e3,'km.')"
   ]
  },
  {
   "cell_type": "code",
   "execution_count": 12,
   "id": "c6cfdbc4-afad-437f-aed4-848e3d84d159",
   "metadata": {},
   "outputs": [],
   "source": [
    "#Calculate resultant Darcy flux (currently in terrain following grid)\n",
    "q_T = np.sqrt(q_x**2+q_y**2+q_z**2) #resultant total flux of water [m/h]\n",
    "q_L = np.sqrt(q_x**2+q_y**2)        #resultant lateral flow of water [m/h]\n",
    "\n",
    "\n",
    "#Make a US volume array\n",
    "Volume = np.ones_like(head_one_time)*Delta_x*Delta_y#np.kron(np.ones(((np.shape(press_np)[0]),1,1),Delta_x)\n",
    "\n",
    "# #Ratio of lateral velocity\n",
    "# Ratio = q_L/q_T\n",
    "# Ratio*porosity*Delta_x*Delta*y\n",
    "\n",
    "\n"
   ]
  },
  {
   "cell_type": "code",
   "execution_count": null,
   "id": "9bfcc4b0-a896-483a-93a8-ed57110eb609",
   "metadata": {},
   "outputs": [],
   "source": []
  }
 ],
 "metadata": {
  "kernelspec": {
   "display_name": "Python 3 (ipykernel)",
   "language": "python",
   "name": "python3"
  },
  "language_info": {
   "codemirror_mode": {
    "name": "ipython",
    "version": 3
   },
   "file_extension": ".py",
   "mimetype": "text/x-python",
   "name": "python",
   "nbconvert_exporter": "python",
   "pygments_lexer": "ipython3",
   "version": "3.11.4"
  }
 },
 "nbformat": 4,
 "nbformat_minor": 5
}
